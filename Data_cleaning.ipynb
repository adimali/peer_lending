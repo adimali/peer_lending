{
 "cells": [
  {
   "cell_type": "code",
   "execution_count": 1,
   "metadata": {
    "collapsed": true
   },
   "outputs": [],
   "source": [
    "import pandas as pd\n",
    "pd.set_option('display.max_rows', 100, 'display.max_columns', 200)"
   ]
  },
  {
   "cell_type": "code",
   "execution_count": 2,
   "metadata": {
    "collapsed": true
   },
   "outputs": [],
   "source": [
    "zip_income=pd.read_excel('MedianZIP-3.xlsx')"
   ]
  },
  {
   "cell_type": "code",
   "execution_count": 3,
   "metadata": {
    "collapsed": true
   },
   "outputs": [],
   "source": [
    "zip_group={}\n",
    "for i in range(10,1000):\n",
    "    mean_value = zip_income[(zip_income['Zip']>=(i*100)) & (zip_income['Zip']<((i+1)*100))]['Median'].mean()\n",
    "    if mean_value == mean_value:\n",
    "        zip_group[i]= mean_value"
   ]
  },
  {
   "cell_type": "code",
   "execution_count": 4,
   "metadata": {
    "collapsed": true
   },
   "outputs": [],
   "source": [
    "def clean_data(data):\n",
    "    data.dropna(axis=0, how='all', inplace=True)\n",
    "    data['loan_status'] = data['loan_status'].replace(r'Does not meet the credit policy. Status:','',regex=True)\n",
    "    data['term']=data['term'].replace([r'36*',r'60*'],[36,60],regex=True)\n",
    "    data['int_rate'] = data['int_rate'].replace('%','',regex=True).astype('float')/100\n",
    "    \n",
    "    data['sub_grade'] = data['sub_grade'].replace(r'[A-Z]','',regex=True).astype('int')\n",
    "    \n",
    "    data['emp_length']=data['emp_length'].replace([r'<1*',r'10\\+*','n/a'],[0.5,11,0],regex=True)\n",
    "    data['emp_length'] = data['emp_length'].replace(r'year.*','',regex=True).astype('float')\n",
    "    \n",
    "    data.drop(data[data.loan_status == 'Current'].index, inplace=True)\n",
    "    data.loc[data['loan_status'] != 'Fully Paid', 'loan_status'] = 0\n",
    "    data.loc[data['loan_status'] == 'Fully Paid', 'loan_status'] = 1\n",
    "    data.loc[(data['home_ownership'] == 'ANY') | (data['home_ownership'] == 'NONE'), 'home_ownership'] = 'OTHER'\n",
    "    \n",
    "    data['zip_income'] = -1\n",
    "    zip_mean= zip_income['Median'].mean()\n",
    "    for index,row in data.iterrows():\n",
    "        value = zip_group.get(int(row['zip_code'][:3]), zip_mean)\n",
    "        data.set_value(index,'zip_income',value) \n",
    "    data.drop(['zip_code'], axis=1, inplace= True)"
   ]
  },
  {
   "cell_type": "code",
   "execution_count": 5,
   "metadata": {},
   "outputs": [],
   "source": [
    "cols_=['loan_amnt','term','int_rate','installment','grade','sub_grade','emp_length','home_ownership','annual_inc',\n",
    "       'verification_status','zip_code','purpose','loan_status']\n",
    "data_3a=pd.read_csv('LoanStats3a.csv',skiprows=[0],usecols=cols_)\n",
    "clean_data(data_3a)\n",
    "data_3b=pd.read_csv('LoanStats3b.csv',skiprows=[0],usecols=cols_)\n",
    "clean_data(data_3b)\n",
    "data_3c=pd.read_csv('LoanStats3c.csv',skiprows=[0],usecols=cols_)\n",
    "clean_data(data_3c)"
   ]
  },
  {
   "cell_type": "code",
   "execution_count": 6,
   "metadata": {},
   "outputs": [
    {
     "data": {
      "text/plain": [
       "loan_status\n",
       "0     6431\n",
       "1    36104\n",
       "dtype: int64"
      ]
     },
     "execution_count": 6,
     "metadata": {},
     "output_type": "execute_result"
    }
   ],
   "source": [
    "data_3a.groupby(['loan_status']).size()"
   ]
  },
  {
   "cell_type": "code",
   "execution_count": 7,
   "metadata": {},
   "outputs": [
    {
     "data": {
      "text/plain": [
       "loan_status\n",
       "0     29290\n",
       "1    148092\n",
       "dtype: int64"
      ]
     },
     "execution_count": 7,
     "metadata": {},
     "output_type": "execute_result"
    }
   ],
   "source": [
    "data_3b.groupby(['loan_status']).size()"
   ]
  },
  {
   "cell_type": "code",
   "execution_count": 8,
   "metadata": {},
   "outputs": [
    {
     "data": {
      "text/plain": [
       "loan_status\n",
       "0     38873\n",
       "1    134710\n",
       "dtype: int64"
      ]
     },
     "execution_count": 8,
     "metadata": {},
     "output_type": "execute_result"
    }
   ],
   "source": [
    "data_3c.groupby(['loan_status']).size()"
   ]
  },
  {
   "cell_type": "code",
   "execution_count": 9,
   "metadata": {
    "collapsed": true
   },
   "outputs": [],
   "source": [
    "data= pd.concat([data_3a,data_3b,data_3c],ignore_index=True)\n",
    "data.drop_duplicates(inplace=True)\n",
    "data=data.reset_index(drop=True)"
   ]
  },
  {
   "cell_type": "code",
   "execution_count": 10,
   "metadata": {
    "collapsed": true
   },
   "outputs": [],
   "source": [
    "data.to_pickle('data.p')"
   ]
  }
 ],
 "metadata": {
  "kernelspec": {
   "display_name": "Python 3",
   "language": "python",
   "name": "python3"
  },
  "language_info": {
   "codemirror_mode": {
    "name": "ipython",
    "version": 3
   },
   "file_extension": ".py",
   "mimetype": "text/x-python",
   "name": "python",
   "nbconvert_exporter": "python",
   "pygments_lexer": "ipython3",
   "version": "3.6.1"
  }
 },
 "nbformat": 4,
 "nbformat_minor": 2
}
